{
 "cells": [
  {
   "cell_type": "markdown",
   "id": "72bd73de-1494-4464-9e59-2e560793cca1",
   "metadata": {},
   "source": [
    "# Component 2: Parallelizing a software application\n",
    "\n",
    "In this notebook, you will write and test your parallelized code on the Intel DevCloud worker nodes using what you learned in Component 1."
   ]
  },
  {
   "cell_type": "code",
   "execution_count": null,
   "id": "1e042086-a376-424d-b8ba-e0adf4463b88",
   "metadata": {},
   "outputs": [],
   "source": []
  },
  {
   "cell_type": "code",
   "execution_count": null,
   "id": "d03b4a07-5d50-45b1-9307-006a9716e7fa",
   "metadata": {},
   "outputs": [],
   "source": []
  },
  {
   "cell_type": "code",
   "execution_count": null,
   "id": "442d9323-e8c1-47b2-b7fc-1990fa94a7e2",
   "metadata": {},
   "outputs": [],
   "source": []
  },
  {
   "cell_type": "code",
   "execution_count": null,
   "id": "ea2770f9-e073-44bc-b1a6-0fd0ef87e029",
   "metadata": {},
   "outputs": [],
   "source": []
  }
 ],
 "metadata": {
  "kernelspec": {
   "display_name": "Python 3 (ipykernel)",
   "language": "python",
   "name": "python3"
  },
  "language_info": {
   "codemirror_mode": {
    "name": "ipython",
    "version": 3
   },
   "file_extension": ".py",
   "mimetype": "text/x-python",
   "name": "python",
   "nbconvert_exporter": "python",
   "pygments_lexer": "ipython3",
   "version": "3.9.7"
  },
  "toc-autonumbering": false
 },
 "nbformat": 4,
 "nbformat_minor": 5
}
