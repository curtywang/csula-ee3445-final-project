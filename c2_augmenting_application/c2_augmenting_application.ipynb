{
 "cells": [
  {
   "cell_type": "markdown",
   "id": "72bd73de-1494-4464-9e59-2e560793cca1",
   "metadata": {},
   "source": [
    "# Component 2: Parallelizing a software application\n",
    "\n",
    "In this notebook, you will write and test your parallelized code on the Intel DevCloud worker nodes using what you learned in Component 1."
   ]
  },
  {
   "cell_type": "markdown",
   "id": "50147e5d-b343-4a95-bc36-a3a41cd9b3e5",
   "metadata": {},
   "source": [
    "Write your code in the following cell (this assumes Python, but feel free to change as needed):"
   ]
  },
  {
   "cell_type": "code",
   "execution_count": null,
   "id": "d03b4a07-5d50-45b1-9307-006a9716e7fa",
   "metadata": {},
   "outputs": [],
   "source": [
    "%%writefile ParallelCode.py\n",
    "\n",
    "print(\"Replace this with your Python code!!\")\n",
    "\n",
    "def main() -> None:\n",
    "    print(\"Replace this with calls to your functions\")\n",
    "\n",
    "if __name__ == '__main__':\n",
    "    print(\"Replace this with proper timeit calls\")"
   ]
  },
  {
   "cell_type": "markdown",
   "id": "688eb8f8-dbfa-47e4-820c-9a962185877d",
   "metadata": {},
   "source": [
    "Use the `%%qsub` Jupyter cell command from `cfxmagic` to submit jobs below.  If you are not using Python, replace the line with the correct call."
   ]
  },
  {
   "cell_type": "code",
   "execution_count": null,
   "id": "1bea4426-7bbc-460e-8396-b603a01e8bac",
   "metadata": {},
   "outputs": [],
   "source": [
    "import cfxmagic"
   ]
  },
  {
   "cell_type": "code",
   "execution_count": null,
   "id": "442d9323-e8c1-47b2-b7fc-1990fa94a7e2",
   "metadata": {},
   "outputs": [],
   "source": [
    "%%qsub \n",
    "cd $PBS_O_WORKDIR\n",
    "python ParallelCode.py"
   ]
  },
  {
   "cell_type": "markdown",
   "id": "723b7915-503b-478e-a2a2-94f373a69d17",
   "metadata": {},
   "source": [
    "Now we can check `qstat` to see the status of our job.  Feel free to run the following cell repeatedly until our job disappears from the list."
   ]
  },
  {
   "cell_type": "code",
   "execution_count": null,
   "id": "ea2770f9-e073-44bc-b1a6-0fd0ef87e029",
   "metadata": {},
   "outputs": [],
   "source": [
    "!qstat"
   ]
  },
  {
   "cell_type": "markdown",
   "id": "d85d6c14-cd16-40f3-a3cb-1d1828f9d71a",
   "metadata": {},
   "source": [
    "We can now retrieve our output and error streams if they exist, and they will be named STDIN due to the `%%qsub` magic:"
   ]
  },
  {
   "cell_type": "code",
   "execution_count": null,
   "id": "d267581a-2e06-49d6-a0f6-cce33aed8659",
   "metadata": {},
   "outputs": [],
   "source": [
    "%cat STDIN.o*"
   ]
  },
  {
   "cell_type": "code",
   "execution_count": null,
   "id": "a968dfe3-14e3-4367-8663-26279900db9c",
   "metadata": {},
   "outputs": [],
   "source": [
    "%cat STDIN.e*"
   ]
  },
  {
   "cell_type": "markdown",
   "id": "54aa13a8-11c5-4705-8f98-31aab6c1801f",
   "metadata": {},
   "source": [
    "Once you have verified that your parallel code works properly, you can continue to the third component, which covers analyzing your code."
   ]
  },
  {
   "cell_type": "code",
   "execution_count": null,
   "id": "ab71ed71-ce1d-41ff-b04a-5476bcb038d8",
   "metadata": {},
   "outputs": [],
   "source": []
  }
 ],
 "metadata": {
  "kernelspec": {
   "display_name": "Python 3 (ipykernel)",
   "language": "python",
   "name": "python3"
  },
  "language_info": {
   "codemirror_mode": {
    "name": "ipython",
    "version": 3
   },
   "file_extension": ".py",
   "mimetype": "text/x-python",
   "name": "python",
   "nbconvert_exporter": "python",
   "pygments_lexer": "ipython3",
   "version": "3.9.7"
  },
  "toc-autonumbering": false
 },
 "nbformat": 4,
 "nbformat_minor": 5
}
