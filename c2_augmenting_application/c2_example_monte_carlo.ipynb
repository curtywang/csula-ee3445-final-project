{
 "cells": [
  {
   "cell_type": "markdown",
   "id": "72bd73de-1494-4464-9e59-2e560793cca1",
   "metadata": {},
   "source": [
    "# Example serial code for Component 2\n",
    "\n",
    "This notebook demonstrates Monte Carlo Simulation"
   ]
  },
  {
   "cell_type": "markdown",
   "id": "00b2062e-601c-43fd-bb6e-258354f08900",
   "metadata": {},
   "source": [
    "## Why Monte Carlo (MC) simulation?\n",
    "\n",
    "We use MC simulations for problems where we want to find numerical values, where the process is subject to computational costs.\n",
    "\n",
    "This is why MCMC (Markov chain Monte Carlo) is used for Bayesian regression -- each parameter space has an exponentially large search space that would be intractable to compute on every possible hypothesis.\n",
    "\n",
    "Monte Carlo simulation: Repeated random sampling to obtain numerical results."
   ]
  },
  {
   "cell_type": "markdown",
   "id": "2805016b-3f32-4aec-a8ee-98a1fb1bf9b0",
   "metadata": {},
   "source": [
    "## Basic steps of a Monte Carlo simulation:\n",
    "\n",
    "1. Define the model and inputs\n",
    "2. Randomly generate the inputs using a stochastic process\n",
    "3. Using the inputs in a deterministic process to produce outputs\n",
    "4. Aggregating and analyzing the results"
   ]
  },
  {
   "cell_type": "markdown",
   "id": "7b2d934e-1b17-41b7-b173-5ec675430819",
   "metadata": {},
   "source": [
    "### Using MC to numerically obtain the value of $\\pi$ with a unit circle\n",
    "\n",
    "We can numerically obtain the value of $\\pi$ by running a MC simulation with the following model:\n",
    "1. Assuming the [unit circle](https://en.wikipedia.org/wiki/Unit_circle), then we know that everywhere along the unit circle, the hypotenuse is 1: $x^2 + y^2 = 1$.  We also know that the area of a unit circle should be $\\pi$, since $a_{circle} = \\pi \\cdot r^2$.\n",
    "2. Since our model is simply just $z = x^2 + y^2$, where the constraint for accepted values is $z \\le 1$, choose distributions and bounds for the parameters.\n",
    "3. We assume that the ratio between accepted values and total ($c_{accepted} / c_{total}$) attempted will be $\\pi / 4$, since we are computing the area of the circle as a ratio to the area of the square.  Thus, $\\pi = 4 \\cdot c_{accepted} / c_{total}$.\n",
    "4. Draw samples until the delta of the computed value for $\\pi$ between samples is less than some accepted numerical error.\n",
    "\n",
    "Let's write this up as Python code using `scipy.stats`!  Keep track of the value of the computed $\\pi$ between samples so we can plot it!"
   ]
  },
  {
   "cell_type": "code",
   "execution_count": null,
   "id": "b889897a-46ea-4f5e-b8ce-04c8644968fb",
   "metadata": {},
   "outputs": [],
   "source": [
    "import numpy as np\n",
    "import scipy.stats\n",
    "from typing import Union"
   ]
  },
  {
   "cell_type": "code",
   "execution_count": null,
   "id": "e279db67-a5a4-46be-89b9-30623810bf2d",
   "metadata": {},
   "outputs": [],
   "source": [
    "def circle_accept(x: Union[float, np.ndarray],\n",
    "                  y: Union[float, np.ndarray]) -> Union[bool, np.ndarray]:\n",
    "    \"\"\"\n",
    "    circle_accept(x, y) will return whether the dart thrown at (x, y)\n",
    "      is within the area of the unit circle.\n",
    "    \"\"\"\n",
    "    return np.square(x) + np.square(y) <= 1"
   ]
  },
  {
   "cell_type": "code",
   "execution_count": null,
   "id": "725cdddd-7965-4030-968a-fea3a41593b6",
   "metadata": {},
   "outputs": [],
   "source": [
    "def monte_carlo_pi(num_draws: int = 1000000) -> float:\n",
    "    x_dist = scipy.stats.uniform(-1, 2)  # Uniform[-1, 1]\n",
    "    y_dist = scipy.stats.uniform(-1, 2)  # Uniform[-1, 1]\n",
    "\n",
    "    the_rng = np.random.default_rng()\n",
    "    x_dist.random_state = the_rng\n",
    "    y_dist.random_state = the_rng\n",
    "\n",
    "    x_draw = x_dist.rvs(size=num_draws)\n",
    "    y_draw = y_dist.rvs(size=num_draws)\n",
    "\n",
    "    z_accept = circle_accept(x_draw, y_draw)\n",
    "    count_accepted = z_accept.sum()\n",
    "\n",
    "    pi_estimate = 4 * (count_accepted / num_draws)\n",
    "    return pi_estimate"
   ]
  },
  {
   "cell_type": "code",
   "execution_count": null,
   "id": "74175bba-8941-4417-864f-936d8889e4f1",
   "metadata": {},
   "outputs": [],
   "source": [
    "# %%timeit -n10\n",
    "\n",
    "monte_carlo_pi(100000000)\n"
   ]
  },
  {
   "cell_type": "markdown",
   "id": "81c7e486-60f2-4653-92ea-e494871786e7",
   "metadata": {},
   "source": [
    "As we experiment with the number of draws (`num_draws`), we can get closer and closer to the \"real\" value of $\\pi$.\n",
    "\n",
    "Now it's your turn!  Based on the code written here -- what can we parallelize?  What are \"independent\" computations in this particular problem?"
   ]
  },
  {
   "cell_type": "markdown",
   "id": "50147e5d-b343-4a95-bc36-a3a41cd9b3e5",
   "metadata": {},
   "source": [
    "Write your code in the following cell (this assumes Python, but feel free to change as needed):"
   ]
  },
  {
   "cell_type": "code",
   "execution_count": null,
   "id": "d03b4a07-5d50-45b1-9307-006a9716e7fa",
   "metadata": {},
   "outputs": [],
   "source": [
    "%%writefile ParallelCode.py\n",
    "\n",
    "print(\"Replace this with your Python code!!\")\n",
    "\n",
    "def main() -> None:\n",
    "    print(\"Replace this with calls to your functions\")\n",
    "\n",
    "if __name__ == '__main__':\n",
    "    print(\"Replace this with proper timeit calls\")"
   ]
  },
  {
   "cell_type": "markdown",
   "id": "688eb8f8-dbfa-47e4-820c-9a962185877d",
   "metadata": {},
   "source": [
    "Use the `%%qsub` Jupyter cell command from `cfxmagic` to submit jobs below.  If you are not using Python, replace the line with the correct call."
   ]
  },
  {
   "cell_type": "code",
   "execution_count": null,
   "id": "1bea4426-7bbc-460e-8396-b603a01e8bac",
   "metadata": {},
   "outputs": [],
   "source": [
    "import cfxmagic"
   ]
  },
  {
   "cell_type": "code",
   "execution_count": null,
   "id": "442d9323-e8c1-47b2-b7fc-1990fa94a7e2",
   "metadata": {},
   "outputs": [],
   "source": [
    "%%qsub \n",
    "cd $PBS_O_WORKDIR\n",
    "python ParallelCode.py"
   ]
  },
  {
   "cell_type": "markdown",
   "id": "723b7915-503b-478e-a2a2-94f373a69d17",
   "metadata": {},
   "source": [
    "Now we can check `qstat` to see the status of our job.  Feel free to run the following cell repeatedly until our job disappears from the list."
   ]
  },
  {
   "cell_type": "code",
   "execution_count": null,
   "id": "ea2770f9-e073-44bc-b1a6-0fd0ef87e029",
   "metadata": {},
   "outputs": [],
   "source": [
    "!qstat"
   ]
  },
  {
   "cell_type": "markdown",
   "id": "d85d6c14-cd16-40f3-a3cb-1d1828f9d71a",
   "metadata": {},
   "source": [
    "We can now retrieve our output and error streams if they exist, and they will be named STDIN due to the `%%qsub` magic:"
   ]
  },
  {
   "cell_type": "code",
   "execution_count": null,
   "id": "d267581a-2e06-49d6-a0f6-cce33aed8659",
   "metadata": {},
   "outputs": [],
   "source": [
    "%cat STDIN.o*"
   ]
  },
  {
   "cell_type": "code",
   "execution_count": null,
   "id": "a968dfe3-14e3-4367-8663-26279900db9c",
   "metadata": {},
   "outputs": [],
   "source": [
    "%cat STDIN.e*"
   ]
  },
  {
   "cell_type": "markdown",
   "id": "54aa13a8-11c5-4705-8f98-31aab6c1801f",
   "metadata": {},
   "source": [
    "Once you have verified that your parallel code works properly, you can continue to the third component, which covers analyzing your code."
   ]
  },
  {
   "cell_type": "code",
   "execution_count": null,
   "id": "ab71ed71-ce1d-41ff-b04a-5476bcb038d8",
   "metadata": {},
   "outputs": [],
   "source": []
  }
 ],
 "metadata": {
  "kernelspec": {
   "display_name": "Python 3 (ipykernel)",
   "language": "python",
   "name": "python3"
  },
  "language_info": {
   "codemirror_mode": {
    "name": "ipython",
    "version": 3
   },
   "file_extension": ".py",
   "mimetype": "text/x-python",
   "name": "python",
   "nbconvert_exporter": "python",
   "pygments_lexer": "ipython3",
   "version": "3.9.7"
  },
  "toc-autonumbering": false
 },
 "nbformat": 4,
 "nbformat_minor": 5
}
