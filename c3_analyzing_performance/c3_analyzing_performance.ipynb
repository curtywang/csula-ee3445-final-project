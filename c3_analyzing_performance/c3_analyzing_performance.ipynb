{
 "cells": [
  {
   "cell_type": "markdown",
   "id": "f53d26b9-7505-433b-9361-e497c1ddccac",
   "metadata": {},
   "source": [
    "# Analyzing Performance\n",
    "\n",
    "## Collecting data\n",
    "\n",
    "Submitting jobs of different size and number of workers to different computer types\n",
    "\n",
    "Aggregating data\n",
    "\n",
    "## Generating plots\n",
    "\n",
    "## Presenting data/plots inline with Markdown text"
   ]
  },
  {
   "cell_type": "code",
   "execution_count": null,
   "id": "2cf334b8-79a1-4f79-8060-b1dbbee340c7",
   "metadata": {},
   "outputs": [],
   "source": []
  },
  {
   "cell_type": "code",
   "execution_count": null,
   "id": "1f837a37-25c8-45de-bc82-f53876756774",
   "metadata": {},
   "outputs": [],
   "source": []
  },
  {
   "cell_type": "code",
   "execution_count": null,
   "id": "6963f7ee-d184-4cfa-9b3d-45ac3dadc4c3",
   "metadata": {},
   "outputs": [],
   "source": []
  },
  {
   "cell_type": "code",
   "execution_count": null,
   "id": "ad6f6d34-14bd-4f2f-8769-b21dba5f52e5",
   "metadata": {},
   "outputs": [],
   "source": []
  },
  {
   "cell_type": "code",
   "execution_count": null,
   "id": "50e641b4-3460-456b-bda3-bc6b93215795",
   "metadata": {},
   "outputs": [],
   "source": []
  },
  {
   "cell_type": "code",
   "execution_count": null,
   "id": "498b8bac-d50e-4024-b002-60cf5c86d43f",
   "metadata": {},
   "outputs": [],
   "source": []
  },
  {
   "cell_type": "code",
   "execution_count": null,
   "id": "b86774e4-a9e7-4a17-b5e9-631d4d72f97b",
   "metadata": {},
   "outputs": [],
   "source": []
  },
  {
   "cell_type": "code",
   "execution_count": null,
   "id": "b48fdb5d-ebd6-410b-ab87-608042ec4b0d",
   "metadata": {},
   "outputs": [],
   "source": []
  },
  {
   "cell_type": "code",
   "execution_count": null,
   "id": "bd05b831-1103-40e5-802a-558e9f29a7d1",
   "metadata": {},
   "outputs": [],
   "source": []
  },
  {
   "cell_type": "code",
   "execution_count": null,
   "id": "8ae565b1-b794-403f-92df-0353683a0672",
   "metadata": {},
   "outputs": [],
   "source": []
  }
 ],
 "metadata": {
  "kernelspec": {
   "display_name": "Python 3 (ipykernel)",
   "language": "python",
   "name": "python3"
  },
  "language_info": {
   "codemirror_mode": {
    "name": "ipython",
    "version": 3
   },
   "file_extension": ".py",
   "mimetype": "text/x-python",
   "name": "python",
   "nbconvert_exporter": "python",
   "pygments_lexer": "ipython3",
   "version": "3.9.7"
  },
  "toc-autonumbering": true
 },
 "nbformat": 4,
 "nbformat_minor": 5
}
